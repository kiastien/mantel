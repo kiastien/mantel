{
 "cells": [
  {
   "cell_type": "code",
   "execution_count": 1,
   "metadata": {},
   "outputs": [],
   "source": [
    "import numpy as np\n",
    "import pandas as pd\n",
    "import os\n",
    "import glob\n",
    "import json"
   ]
  },
  {
   "cell_type": "code",
   "execution_count": 2,
   "metadata": {},
   "outputs": [],
   "source": [
    "dataset_path = \"datasets/*.json\"\n",
    "\n",
    "files = glob.glob(dataset_path, recursive=True)"
   ]
  },
  {
   "cell_type": "code",
   "execution_count": 3,
   "metadata": {},
   "outputs": [],
   "source": [
    "string_columns = [\"WeatherText\", \"city\"]\n",
    "result_df = pd.DataFrame(columns=[\"City\", \"Average Temp\", \"Top Weather Text\"])"
   ]
  },
  {
   "cell_type": "code",
   "execution_count": 4,
   "metadata": {},
   "outputs": [],
   "source": [
    "def create_title_string(city_data, columns):\n",
    "    for column in columns:\n",
    "        city_data[column] = city_data[column].apply(lambda x: x.title())"
   ]
  },
  {
   "cell_type": "code",
   "execution_count": 5,
   "metadata": {},
   "outputs": [],
   "source": [
    "for file in files:\n",
    "    with open(file, 'r') as json_file:\n",
    "        json_data = json.load(json_file)\n",
    "        city_data = pd.json_normalize(json_data)\n",
    "\n",
    "        create_title_string(city_data, string_columns)\n",
    "\n",
    "\n",
    "        top_text = list(city_data[\"WeatherText\"].value_counts()[0:3].keys())\n",
    "        city = city_data[\"city\"][0]\n",
    "        avg_tmp = round(city_data[\"Temperature.Metric.Value\"].mean(), 2)\n",
    "        result_df = result_df.append({\"City\" : city, \"Average Temp\": avg_tmp, \"Top Weather Text\" : top_text}, ignore_index=True)"
   ]
  },
  {
   "cell_type": "code",
   "execution_count": 7,
   "metadata": {},
   "outputs": [],
   "source": [
    "result_df[[\"City\", \"Average Temp\"]].to_csv(\"average.csv\")\n",
    "result_df[[\"City\", \"Top Weather Text\"]].to_csv(\"top_weather.csv\")"
   ]
  },
  {
   "cell_type": "code",
   "execution_count": null,
   "metadata": {},
   "outputs": [],
   "source": []
  },
  {
   "cell_type": "code",
   "execution_count": null,
   "metadata": {},
   "outputs": [],
   "source": []
  }
 ],
 "metadata": {
  "interpreter": {
   "hash": "9b81ff41abb670a8c1b05cd17f63676f5c0657078a31affe5b431fb725733c26"
  },
  "kernelspec": {
   "display_name": "Python 3.9.6 ('ML')",
   "language": "python",
   "name": "python3"
  },
  "language_info": {
   "codemirror_mode": {
    "name": "ipython",
    "version": 3
   },
   "file_extension": ".py",
   "mimetype": "text/x-python",
   "name": "python",
   "nbconvert_exporter": "python",
   "pygments_lexer": "ipython3",
   "version": "3.9.6"
  },
  "orig_nbformat": 4
 },
 "nbformat": 4,
 "nbformat_minor": 2
}
